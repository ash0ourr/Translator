{
 "cells": [
  {
   "cell_type": "code",
   "execution_count": 1,
   "metadata": {},
   "outputs": [
    {
     "name": "stderr",
     "output_type": "stream",
     "text": [
      "/Users/ziad/Desktop/Selected DS/proj/myenv/lib/python3.9/site-packages/urllib3/__init__.py:35: NotOpenSSLWarning: urllib3 v2 only supports OpenSSL 1.1.1+, currently the 'ssl' module is compiled with 'LibreSSL 2.8.3'. See: https://github.com/urllib3/urllib3/issues/3020\n",
      "  warnings.warn(\n"
     ]
    }
   ],
   "source": [
    "import pandas as pd\n",
    "import numpy as np\n",
    "\n",
    "import tensorflow as tf\n",
    "from tensorflow import keras\n",
    "from tensorflow.keras.layers import Input, GRU, Embedding, Dense\n",
    "from tensorflow.keras.models import Model\n",
    "from tensorflow.keras.preprocessing.text import Tokenizer\n",
    "from tensorflow.keras.preprocessing.sequence import pad_sequences\n",
    "from tensorflow.keras.optimizers import Adam"
   ]
  },
  {
   "cell_type": "code",
   "execution_count": 2,
   "metadata": {},
   "outputs": [],
   "source": [
    "data = pd.read_csv('dataset.csv')\n",
    "input_texts = data['English words/sentences'].values\n",
    "target_texts = data['French words/sentences'].values\n",
    "\n",
    "# Cut the data to work faster, for now!\n",
    "input_texts = input_texts[:5000]\n",
    "target_texts = target_texts[:5000]"
   ]
  },
  {
   "cell_type": "code",
   "execution_count": 3,
   "metadata": {},
   "outputs": [
    {
     "data": {
      "text/plain": [
       "((5000,), (5000,))"
      ]
     },
     "execution_count": 3,
     "metadata": {},
     "output_type": "execute_result"
    }
   ],
   "source": [
    "input_texts.shape, target_texts.shape"
   ]
  },
  {
   "cell_type": "code",
   "execution_count": 4,
   "metadata": {},
   "outputs": [],
   "source": [
    "eng_tokenizer = Tokenizer(filters='')\n",
    "eng_tokenizer.fit_on_texts(input_texts)\n",
    "eng_sequences = eng_tokenizer.texts_to_sequences(input_texts)\n",
    "eng_vocab_size = len(eng_tokenizer.word_index) + 1\n",
    "max_eng_len = max(len(seq) for seq in eng_sequences)\n",
    "\n",
    "fra_tokenizer = Tokenizer(filters='')\n",
    "fra_tokenizer.fit_on_texts(target_texts)\n",
    "fra_sequences = fra_tokenizer.texts_to_sequences(target_texts)\n",
    "fra_vocab_size = len(fra_tokenizer.word_index) + 1\n",
    "max_fra_len = max(len(seq) for seq in fra_sequences)"
   ]
  },
  {
   "cell_type": "code",
   "execution_count": 5,
   "metadata": {},
   "outputs": [],
   "source": [
    "# Pad\n",
    "eng_sequences = pad_sequences(eng_sequences, maxlen=max_eng_len, padding='post')\n",
    "fra_sequences = pad_sequences(fra_sequences, maxlen=max_fra_len, padding='post')\n",
    "\n",
    "# Split\n",
    "fra_input_sequences = fra_sequences[:, :-1]\n",
    "fra_output_sequences = fra_sequences[:, 1:]"
   ]
  },
  {
   "cell_type": "code",
   "execution_count": 6,
   "metadata": {},
   "outputs": [],
   "source": [
    "from tensorflow.keras.layers import MultiHeadAttention, LayerNormalization, Add, Dense\n",
    "\n",
    "# Positional Encoding (for both Encoder and Decoder)\n",
    "def positional_encoding(max_len, d_model):\n",
    "    angle_rads = np.arange(max_len)[:, np.newaxis] / np.power(10000, (2 * (np.arange(d_model)[np.newaxis, :] // 2)) / d_model)\n",
    "    angle_rads[:, 0::2] = np.sin(angle_rads[:, 0::2])\n",
    "    angle_rads[:, 1::2] = np.cos(angle_rads[:, 1::2])\n",
    "    return tf.cast(angle_rads, dtype=tf.float32)\n",
    "\n",
    "# Encoder block\n",
    "def encoder_layer(d_model, num_heads, dff, maximum_position_encoding):\n",
    "    inputs = Input(shape=(max_eng_len,))\n",
    "\n",
    "    # Embedding and Positional Encoding\n",
    "    embedding = Embedding(eng_vocab_size, d_model)(inputs)\n",
    "    pos_encoding = positional_encoding(maximum_position_encoding, d_model)\n",
    "    embedding *= tf.math.sqrt(tf.cast(d_model, tf.float32))\n",
    "    embedding += pos_encoding[:max_eng_len, :]\n",
    "\n",
    "    # Multi-Head Attention\n",
    "    attention = MultiHeadAttention(num_heads=num_heads, key_dim=d_model)(embedding, embedding)\n",
    "    attention = LayerNormalization(epsilon=1e-6)(attention + embedding)\n",
    "\n",
    "    # Feed Forward Network\n",
    "    ffn_output = Dense(dff, activation='relu')(attention)\n",
    "    ffn_output = Dense(d_model)(ffn_output)\n",
    "    ffn_output = LayerNormalization(epsilon=1e-6)(ffn_output + attention)\n",
    "\n",
    "    return Model(inputs, ffn_output)\n",
    "\n",
    "# Decoder block\n",
    "def decoder_layer(d_model, num_heads, dff, maximum_position_encoding):\n",
    "    inputs = Input(shape=(max_fra_len-1,))\n",
    "    enc_output = Input(shape=(max_eng_len, d_model))\n",
    "\n",
    "    # Embedding and Positional Encoding\n",
    "    embedding = Embedding(fra_vocab_size, d_model)(inputs)\n",
    "    pos_encoding = positional_encoding(maximum_position_encoding, d_model)\n",
    "    embedding *= tf.math.sqrt(tf.cast(d_model, tf.float32))\n",
    "    embedding += pos_encoding[:max_fra_len-1, :]\n",
    "\n",
    "    # Multi-Head Attention (Self-attention)\n",
    "    attention1 = MultiHeadAttention(num_heads=num_heads, key_dim=d_model)(embedding, embedding)\n",
    "    attention1 = LayerNormalization(epsilon=1e-6)(attention1 + embedding)\n",
    "\n",
    "    # Multi-Head Attention (Encoder-Decoder Attention)\n",
    "    attention2 = MultiHeadAttention(num_heads=num_heads, key_dim=d_model)(attention1, enc_output)\n",
    "    attention2 = LayerNormalization(epsilon=1e-6)(attention2 + attention1)\n",
    "\n",
    "    # Feed Forward Network\n",
    "    ffn_output = Dense(dff, activation='relu')(attention2)\n",
    "    ffn_output = Dense(d_model)(ffn_output)\n",
    "    ffn_output = LayerNormalization(epsilon=1e-6)(ffn_output + attention2)\n",
    "\n",
    "    return Model([inputs, enc_output], ffn_output)\n",
    "\n",
    "# Hyperparameters\n",
    "d_model = 256\n",
    "num_heads = 8\n",
    "dff = 512\n",
    "maximum_position_encoding = max(max_eng_len, max_fra_len)\n",
    "\n",
    "# Build the encoder and decoder\n",
    "encoder_inputs = Input(shape=(max_eng_len,))\n",
    "encoder = encoder_layer(d_model, num_heads, dff, maximum_position_encoding)\n",
    "encoder_outputs = encoder(encoder_inputs)\n",
    "\n",
    "decoder_inputs = Input(shape=(max_fra_len-1,))\n",
    "decoder = decoder_layer(d_model, num_heads, dff, maximum_position_encoding)\n",
    "decoder_outputs = decoder([decoder_inputs, encoder_outputs])\n",
    "\n",
    "# Final linear and softmax layer\n",
    "outputs = Dense(fra_vocab_size, activation='softmax')(decoder_outputs)\n",
    "\n",
    "# Define the model\n",
    "model = Model([encoder_inputs, decoder_inputs], outputs)\n",
    "model.compile(optimizer=Adam(learning_rate=0.1), loss='sparse_categorical_crossentropy')\n"
   ]
  },
  {
   "cell_type": "code",
   "execution_count": 7,
   "metadata": {},
   "outputs": [
    {
     "data": {
      "text/html": [
       "<pre style=\"white-space:pre;overflow-x:auto;line-height:normal;font-family:Menlo,'DejaVu Sans Mono',consolas,'Courier New',monospace\"><span style=\"font-weight: bold\">Model: \"functional_2\"</span>\n",
       "</pre>\n"
      ],
      "text/plain": [
       "\u001b[1mModel: \"functional_2\"\u001b[0m\n"
      ]
     },
     "metadata": {},
     "output_type": "display_data"
    },
    {
     "data": {
      "text/html": [
       "<pre style=\"white-space:pre;overflow-x:auto;line-height:normal;font-family:Menlo,'DejaVu Sans Mono',consolas,'Courier New',monospace\">┏━━━━━━━━━━━━━━━━━━━━━━━━━━━━┳━━━━━━━━━━━━━━━━━━━┳━━━━━━━━━━┳━━━━━━━━━━━━━━━━━━━━━━━━━━━━┳━━━━━━━━━┓\n",
       "┃<span style=\"font-weight: bold\"> Layer (type)               </span>┃<span style=\"font-weight: bold\"> Output Shape      </span>┃<span style=\"font-weight: bold\">  Param # </span>┃<span style=\"font-weight: bold\"> Connected to               </span>┃<span style=\"font-weight: bold\"> Traina… </span>┃\n",
       "┡━━━━━━━━━━━━━━━━━━━━━━━━━━━━╇━━━━━━━━━━━━━━━━━━━╇━━━━━━━━━━╇━━━━━━━━━━━━━━━━━━━━━━━━━━━━╇━━━━━━━━━┩\n",
       "│ input_layer (<span style=\"color: #0087ff; text-decoration-color: #0087ff\">InputLayer</span>)   │ (<span style=\"color: #00d7ff; text-decoration-color: #00d7ff\">None</span>, <span style=\"color: #00af00; text-decoration-color: #00af00\">5</span>)         │        <span style=\"color: #00af00; text-decoration-color: #00af00\">0</span> │ -                          │    <span style=\"font-weight: bold\">-</span>    │\n",
       "├────────────────────────────┼───────────────────┼──────────┼────────────────────────────┼─────────┤\n",
       "│ input_layer_2 (<span style=\"color: #0087ff; text-decoration-color: #0087ff\">InputLayer</span>) │ (<span style=\"color: #00d7ff; text-decoration-color: #00d7ff\">None</span>, <span style=\"color: #00af00; text-decoration-color: #00af00\">9</span>)         │        <span style=\"color: #00af00; text-decoration-color: #00af00\">0</span> │ -                          │    <span style=\"font-weight: bold\">-</span>    │\n",
       "├────────────────────────────┼───────────────────┼──────────┼────────────────────────────┼─────────┤\n",
       "│ functional (<span style=\"color: #0087ff; text-decoration-color: #0087ff\">Functional</span>)    │ (<span style=\"color: #00d7ff; text-decoration-color: #00d7ff\">None</span>, <span style=\"color: #00af00; text-decoration-color: #00af00\">5</span>, <span style=\"color: #00af00; text-decoration-color: #00af00\">256</span>)    │ <span style=\"color: #00af00; text-decoration-color: #00af00\">2,798,8…</span> │ input_layer[<span style=\"color: #00af00; text-decoration-color: #00af00\">0</span>][<span style=\"color: #00af00; text-decoration-color: #00af00\">0</span>]          │    <span style=\"color: #00af00; text-decoration-color: #00af00; font-weight: bold\">Y</span>    │\n",
       "├────────────────────────────┼───────────────────┼──────────┼────────────────────────────┼─────────┤\n",
       "│    └ input_layer_1         │ (<span style=\"color: #00d7ff; text-decoration-color: #00d7ff\">None</span>, <span style=\"color: #00af00; text-decoration-color: #00af00\">5</span>)         │        <span style=\"color: #00af00; text-decoration-color: #00af00\">0</span> │ -                          │    <span style=\"font-weight: bold\">-</span>    │\n",
       "│ (<span style=\"color: #0087ff; text-decoration-color: #0087ff\">InputLayer</span>)               │                   │          │                            │         │\n",
       "├────────────────────────────┼───────────────────┼──────────┼────────────────────────────┼─────────┤\n",
       "│    └ embedding (<span style=\"color: #0087ff; text-decoration-color: #0087ff\">Embedding</span>) │ (<span style=\"color: #00d7ff; text-decoration-color: #00d7ff\">None</span>, <span style=\"color: #00af00; text-decoration-color: #00af00\">5</span>, <span style=\"color: #00af00; text-decoration-color: #00af00\">256</span>)    │  <span style=\"color: #00af00; text-decoration-color: #00af00\">431,360</span> │ -                          │    <span style=\"color: #00af00; text-decoration-color: #00af00; font-weight: bold\">Y</span>    │\n",
       "├────────────────────────────┼───────────────────┼──────────┼────────────────────────────┼─────────┤\n",
       "│    └ multi_head_attention  │ (<span style=\"color: #00d7ff; text-decoration-color: #00d7ff\">None</span>, <span style=\"color: #00af00; text-decoration-color: #00af00\">5</span>, <span style=\"color: #00af00; text-decoration-color: #00af00\">256</span>)    │ <span style=\"color: #00af00; text-decoration-color: #00af00\">2,103,5…</span> │ -                          │    <span style=\"color: #00af00; text-decoration-color: #00af00; font-weight: bold\">Y</span>    │\n",
       "│ (<span style=\"color: #0087ff; text-decoration-color: #0087ff\">MultiHeadAttention</span>)       │                   │          │                            │         │\n",
       "├────────────────────────────┼───────────────────┼──────────┼────────────────────────────┼─────────┤\n",
       "│    └ layer_normalization   │ (<span style=\"color: #00d7ff; text-decoration-color: #00d7ff\">None</span>, <span style=\"color: #00af00; text-decoration-color: #00af00\">5</span>, <span style=\"color: #00af00; text-decoration-color: #00af00\">256</span>)    │      <span style=\"color: #00af00; text-decoration-color: #00af00\">512</span> │ -                          │    <span style=\"color: #00af00; text-decoration-color: #00af00; font-weight: bold\">Y</span>    │\n",
       "│ (<span style=\"color: #0087ff; text-decoration-color: #0087ff\">LayerNormalization</span>)       │                   │          │                            │         │\n",
       "├────────────────────────────┼───────────────────┼──────────┼────────────────────────────┼─────────┤\n",
       "│    └ dense (<span style=\"color: #0087ff; text-decoration-color: #0087ff\">Dense</span>)         │ (<span style=\"color: #00d7ff; text-decoration-color: #00d7ff\">None</span>, <span style=\"color: #00af00; text-decoration-color: #00af00\">5</span>, <span style=\"color: #00af00; text-decoration-color: #00af00\">512</span>)    │  <span style=\"color: #00af00; text-decoration-color: #00af00\">131,584</span> │ -                          │    <span style=\"color: #00af00; text-decoration-color: #00af00; font-weight: bold\">Y</span>    │\n",
       "├────────────────────────────┼───────────────────┼──────────┼────────────────────────────┼─────────┤\n",
       "│    └ dense_1 (<span style=\"color: #0087ff; text-decoration-color: #0087ff\">Dense</span>)       │ (<span style=\"color: #00d7ff; text-decoration-color: #00d7ff\">None</span>, <span style=\"color: #00af00; text-decoration-color: #00af00\">5</span>, <span style=\"color: #00af00; text-decoration-color: #00af00\">256</span>)    │  <span style=\"color: #00af00; text-decoration-color: #00af00\">131,328</span> │ -                          │    <span style=\"color: #00af00; text-decoration-color: #00af00; font-weight: bold\">Y</span>    │\n",
       "├────────────────────────────┼───────────────────┼──────────┼────────────────────────────┼─────────┤\n",
       "│    └ layer_normalization_1 │ (<span style=\"color: #00d7ff; text-decoration-color: #00d7ff\">None</span>, <span style=\"color: #00af00; text-decoration-color: #00af00\">5</span>, <span style=\"color: #00af00; text-decoration-color: #00af00\">256</span>)    │      <span style=\"color: #00af00; text-decoration-color: #00af00\">512</span> │ -                          │    <span style=\"color: #00af00; text-decoration-color: #00af00; font-weight: bold\">Y</span>    │\n",
       "│ (<span style=\"color: #0087ff; text-decoration-color: #0087ff\">LayerNormalization</span>)       │                   │          │                            │         │\n",
       "├────────────────────────────┼───────────────────┼──────────┼────────────────────────────┼─────────┤\n",
       "│ functional_1 (<span style=\"color: #0087ff; text-decoration-color: #0087ff\">Functional</span>)  │ (<span style=\"color: #00d7ff; text-decoration-color: #00d7ff\">None</span>, <span style=\"color: #00af00; text-decoration-color: #00af00\">9</span>, <span style=\"color: #00af00; text-decoration-color: #00af00\">256</span>)    │ <span style=\"color: #00af00; text-decoration-color: #00af00\">5,335,8…</span> │ input_layer_2[<span style=\"color: #00af00; text-decoration-color: #00af00\">0</span>][<span style=\"color: #00af00; text-decoration-color: #00af00\">0</span>],       │    <span style=\"color: #00af00; text-decoration-color: #00af00; font-weight: bold\">Y</span>    │\n",
       "│                            │                   │          │ functional[<span style=\"color: #00af00; text-decoration-color: #00af00\">0</span>][<span style=\"color: #00af00; text-decoration-color: #00af00\">0</span>]           │         │\n",
       "├────────────────────────────┼───────────────────┼──────────┼────────────────────────────┼─────────┤\n",
       "│    └ input_layer_3         │ (<span style=\"color: #00d7ff; text-decoration-color: #00d7ff\">None</span>, <span style=\"color: #00af00; text-decoration-color: #00af00\">9</span>)         │        <span style=\"color: #00af00; text-decoration-color: #00af00\">0</span> │ -                          │    <span style=\"font-weight: bold\">-</span>    │\n",
       "│ (<span style=\"color: #0087ff; text-decoration-color: #0087ff\">InputLayer</span>)               │                   │          │                            │         │\n",
       "├────────────────────────────┼───────────────────┼──────────┼────────────────────────────┼─────────┤\n",
       "│    └ embedding_1           │ (<span style=\"color: #00d7ff; text-decoration-color: #00d7ff\">None</span>, <span style=\"color: #00af00; text-decoration-color: #00af00\">9</span>, <span style=\"color: #00af00; text-decoration-color: #00af00\">256</span>)    │  <span style=\"color: #00af00; text-decoration-color: #00af00\">864,256</span> │ -                          │    <span style=\"color: #00af00; text-decoration-color: #00af00; font-weight: bold\">Y</span>    │\n",
       "│ (<span style=\"color: #0087ff; text-decoration-color: #0087ff\">Embedding</span>)                │                   │          │                            │         │\n",
       "├────────────────────────────┼───────────────────┼──────────┼────────────────────────────┼─────────┤\n",
       "│    └                       │ (<span style=\"color: #00d7ff; text-decoration-color: #00d7ff\">None</span>, <span style=\"color: #00af00; text-decoration-color: #00af00\">9</span>, <span style=\"color: #00af00; text-decoration-color: #00af00\">256</span>)    │ <span style=\"color: #00af00; text-decoration-color: #00af00\">2,103,5…</span> │ -                          │    <span style=\"color: #00af00; text-decoration-color: #00af00; font-weight: bold\">Y</span>    │\n",
       "│ multi_head_attention_1     │                   │          │                            │         │\n",
       "│ (<span style=\"color: #0087ff; text-decoration-color: #0087ff\">MultiHeadAttention</span>)       │                   │          │                            │         │\n",
       "├────────────────────────────┼───────────────────┼──────────┼────────────────────────────┼─────────┤\n",
       "│    └ layer_normalization_2 │ (<span style=\"color: #00d7ff; text-decoration-color: #00d7ff\">None</span>, <span style=\"color: #00af00; text-decoration-color: #00af00\">9</span>, <span style=\"color: #00af00; text-decoration-color: #00af00\">256</span>)    │      <span style=\"color: #00af00; text-decoration-color: #00af00\">512</span> │ -                          │    <span style=\"color: #00af00; text-decoration-color: #00af00; font-weight: bold\">Y</span>    │\n",
       "│ (<span style=\"color: #0087ff; text-decoration-color: #0087ff\">LayerNormalization</span>)       │                   │          │                            │         │\n",
       "├────────────────────────────┼───────────────────┼──────────┼────────────────────────────┼─────────┤\n",
       "│    └ input_layer_4         │ (<span style=\"color: #00d7ff; text-decoration-color: #00d7ff\">None</span>, <span style=\"color: #00af00; text-decoration-color: #00af00\">5</span>, <span style=\"color: #00af00; text-decoration-color: #00af00\">256</span>)    │        <span style=\"color: #00af00; text-decoration-color: #00af00\">0</span> │ -                          │    <span style=\"font-weight: bold\">-</span>    │\n",
       "│ (<span style=\"color: #0087ff; text-decoration-color: #0087ff\">InputLayer</span>)               │                   │          │                            │         │\n",
       "├────────────────────────────┼───────────────────┼──────────┼────────────────────────────┼─────────┤\n",
       "│    └                       │ (<span style=\"color: #00d7ff; text-decoration-color: #00d7ff\">None</span>, <span style=\"color: #00af00; text-decoration-color: #00af00\">9</span>, <span style=\"color: #00af00; text-decoration-color: #00af00\">256</span>)    │ <span style=\"color: #00af00; text-decoration-color: #00af00\">2,103,5…</span> │ -                          │    <span style=\"color: #00af00; text-decoration-color: #00af00; font-weight: bold\">Y</span>    │\n",
       "│ multi_head_attention_2     │                   │          │                            │         │\n",
       "│ (<span style=\"color: #0087ff; text-decoration-color: #0087ff\">MultiHeadAttention</span>)       │                   │          │                            │         │\n",
       "├────────────────────────────┼───────────────────┼──────────┼────────────────────────────┼─────────┤\n",
       "│    └ layer_normalization_3 │ (<span style=\"color: #00d7ff; text-decoration-color: #00d7ff\">None</span>, <span style=\"color: #00af00; text-decoration-color: #00af00\">9</span>, <span style=\"color: #00af00; text-decoration-color: #00af00\">256</span>)    │      <span style=\"color: #00af00; text-decoration-color: #00af00\">512</span> │ -                          │    <span style=\"color: #00af00; text-decoration-color: #00af00; font-weight: bold\">Y</span>    │\n",
       "│ (<span style=\"color: #0087ff; text-decoration-color: #0087ff\">LayerNormalization</span>)       │                   │          │                            │         │\n",
       "├────────────────────────────┼───────────────────┼──────────┼────────────────────────────┼─────────┤\n",
       "│    └ dense_2 (<span style=\"color: #0087ff; text-decoration-color: #0087ff\">Dense</span>)       │ (<span style=\"color: #00d7ff; text-decoration-color: #00d7ff\">None</span>, <span style=\"color: #00af00; text-decoration-color: #00af00\">9</span>, <span style=\"color: #00af00; text-decoration-color: #00af00\">512</span>)    │  <span style=\"color: #00af00; text-decoration-color: #00af00\">131,584</span> │ -                          │    <span style=\"color: #00af00; text-decoration-color: #00af00; font-weight: bold\">Y</span>    │\n",
       "├────────────────────────────┼───────────────────┼──────────┼────────────────────────────┼─────────┤\n",
       "│    └ dense_3 (<span style=\"color: #0087ff; text-decoration-color: #0087ff\">Dense</span>)       │ (<span style=\"color: #00d7ff; text-decoration-color: #00d7ff\">None</span>, <span style=\"color: #00af00; text-decoration-color: #00af00\">9</span>, <span style=\"color: #00af00; text-decoration-color: #00af00\">256</span>)    │  <span style=\"color: #00af00; text-decoration-color: #00af00\">131,328</span> │ -                          │    <span style=\"color: #00af00; text-decoration-color: #00af00; font-weight: bold\">Y</span>    │\n",
       "├────────────────────────────┼───────────────────┼──────────┼────────────────────────────┼─────────┤\n",
       "│    └ layer_normalization_4 │ (<span style=\"color: #00d7ff; text-decoration-color: #00d7ff\">None</span>, <span style=\"color: #00af00; text-decoration-color: #00af00\">9</span>, <span style=\"color: #00af00; text-decoration-color: #00af00\">256</span>)    │      <span style=\"color: #00af00; text-decoration-color: #00af00\">512</span> │ -                          │    <span style=\"color: #00af00; text-decoration-color: #00af00; font-weight: bold\">Y</span>    │\n",
       "│ (<span style=\"color: #0087ff; text-decoration-color: #0087ff\">LayerNormalization</span>)       │                   │          │                            │         │\n",
       "├────────────────────────────┼───────────────────┼──────────┼────────────────────────────┼─────────┤\n",
       "│ dense_4 (<span style=\"color: #0087ff; text-decoration-color: #0087ff\">Dense</span>)            │ (<span style=\"color: #00d7ff; text-decoration-color: #00d7ff\">None</span>, <span style=\"color: #00af00; text-decoration-color: #00af00\">9</span>, <span style=\"color: #00af00; text-decoration-color: #00af00\">3376</span>)   │  <span style=\"color: #00af00; text-decoration-color: #00af00\">867,632</span> │ functional_1[<span style=\"color: #00af00; text-decoration-color: #00af00\">0</span>][<span style=\"color: #00af00; text-decoration-color: #00af00\">0</span>]         │    <span style=\"color: #00af00; text-decoration-color: #00af00; font-weight: bold\">Y</span>    │\n",
       "└────────────────────────────┴───────────────────┴──────────┴────────────────────────────┴─────────┘\n",
       "</pre>\n"
      ],
      "text/plain": [
       "┏━━━━━━━━━━━━━━━━━━━━━━━━━━━━┳━━━━━━━━━━━━━━━━━━━┳━━━━━━━━━━┳━━━━━━━━━━━━━━━━━━━━━━━━━━━━┳━━━━━━━━━┓\n",
       "┃\u001b[1m \u001b[0m\u001b[1mLayer (type)              \u001b[0m\u001b[1m \u001b[0m┃\u001b[1m \u001b[0m\u001b[1mOutput Shape     \u001b[0m\u001b[1m \u001b[0m┃\u001b[1m \u001b[0m\u001b[1m Param #\u001b[0m\u001b[1m \u001b[0m┃\u001b[1m \u001b[0m\u001b[1mConnected to              \u001b[0m\u001b[1m \u001b[0m┃\u001b[1m \u001b[0m\u001b[1mTraina…\u001b[0m\u001b[1m \u001b[0m┃\n",
       "┡━━━━━━━━━━━━━━━━━━━━━━━━━━━━╇━━━━━━━━━━━━━━━━━━━╇━━━━━━━━━━╇━━━━━━━━━━━━━━━━━━━━━━━━━━━━╇━━━━━━━━━┩\n",
       "│ input_layer (\u001b[38;5;33mInputLayer\u001b[0m)   │ (\u001b[38;5;45mNone\u001b[0m, \u001b[38;5;34m5\u001b[0m)         │        \u001b[38;5;34m0\u001b[0m │ -                          │    \u001b[1m-\u001b[0m    │\n",
       "├────────────────────────────┼───────────────────┼──────────┼────────────────────────────┼─────────┤\n",
       "│ input_layer_2 (\u001b[38;5;33mInputLayer\u001b[0m) │ (\u001b[38;5;45mNone\u001b[0m, \u001b[38;5;34m9\u001b[0m)         │        \u001b[38;5;34m0\u001b[0m │ -                          │    \u001b[1m-\u001b[0m    │\n",
       "├────────────────────────────┼───────────────────┼──────────┼────────────────────────────┼─────────┤\n",
       "│ functional (\u001b[38;5;33mFunctional\u001b[0m)    │ (\u001b[38;5;45mNone\u001b[0m, \u001b[38;5;34m5\u001b[0m, \u001b[38;5;34m256\u001b[0m)    │ \u001b[38;5;34m2,798,8…\u001b[0m │ input_layer[\u001b[38;5;34m0\u001b[0m][\u001b[38;5;34m0\u001b[0m]          │    \u001b[1;38;5;34mY\u001b[0m    │\n",
       "├────────────────────────────┼───────────────────┼──────────┼────────────────────────────┼─────────┤\n",
       "│    └ input_layer_1         │ (\u001b[38;5;45mNone\u001b[0m, \u001b[38;5;34m5\u001b[0m)         │        \u001b[38;5;34m0\u001b[0m │ -                          │    \u001b[1m-\u001b[0m    │\n",
       "│ (\u001b[38;5;33mInputLayer\u001b[0m)               │                   │          │                            │         │\n",
       "├────────────────────────────┼───────────────────┼──────────┼────────────────────────────┼─────────┤\n",
       "│    └ embedding (\u001b[38;5;33mEmbedding\u001b[0m) │ (\u001b[38;5;45mNone\u001b[0m, \u001b[38;5;34m5\u001b[0m, \u001b[38;5;34m256\u001b[0m)    │  \u001b[38;5;34m431,360\u001b[0m │ -                          │    \u001b[1;38;5;34mY\u001b[0m    │\n",
       "├────────────────────────────┼───────────────────┼──────────┼────────────────────────────┼─────────┤\n",
       "│    └ multi_head_attention  │ (\u001b[38;5;45mNone\u001b[0m, \u001b[38;5;34m5\u001b[0m, \u001b[38;5;34m256\u001b[0m)    │ \u001b[38;5;34m2,103,5…\u001b[0m │ -                          │    \u001b[1;38;5;34mY\u001b[0m    │\n",
       "│ (\u001b[38;5;33mMultiHeadAttention\u001b[0m)       │                   │          │                            │         │\n",
       "├────────────────────────────┼───────────────────┼──────────┼────────────────────────────┼─────────┤\n",
       "│    └ layer_normalization   │ (\u001b[38;5;45mNone\u001b[0m, \u001b[38;5;34m5\u001b[0m, \u001b[38;5;34m256\u001b[0m)    │      \u001b[38;5;34m512\u001b[0m │ -                          │    \u001b[1;38;5;34mY\u001b[0m    │\n",
       "│ (\u001b[38;5;33mLayerNormalization\u001b[0m)       │                   │          │                            │         │\n",
       "├────────────────────────────┼───────────────────┼──────────┼────────────────────────────┼─────────┤\n",
       "│    └ dense (\u001b[38;5;33mDense\u001b[0m)         │ (\u001b[38;5;45mNone\u001b[0m, \u001b[38;5;34m5\u001b[0m, \u001b[38;5;34m512\u001b[0m)    │  \u001b[38;5;34m131,584\u001b[0m │ -                          │    \u001b[1;38;5;34mY\u001b[0m    │\n",
       "├────────────────────────────┼───────────────────┼──────────┼────────────────────────────┼─────────┤\n",
       "│    └ dense_1 (\u001b[38;5;33mDense\u001b[0m)       │ (\u001b[38;5;45mNone\u001b[0m, \u001b[38;5;34m5\u001b[0m, \u001b[38;5;34m256\u001b[0m)    │  \u001b[38;5;34m131,328\u001b[0m │ -                          │    \u001b[1;38;5;34mY\u001b[0m    │\n",
       "├────────────────────────────┼───────────────────┼──────────┼────────────────────────────┼─────────┤\n",
       "│    └ layer_normalization_1 │ (\u001b[38;5;45mNone\u001b[0m, \u001b[38;5;34m5\u001b[0m, \u001b[38;5;34m256\u001b[0m)    │      \u001b[38;5;34m512\u001b[0m │ -                          │    \u001b[1;38;5;34mY\u001b[0m    │\n",
       "│ (\u001b[38;5;33mLayerNormalization\u001b[0m)       │                   │          │                            │         │\n",
       "├────────────────────────────┼───────────────────┼──────────┼────────────────────────────┼─────────┤\n",
       "│ functional_1 (\u001b[38;5;33mFunctional\u001b[0m)  │ (\u001b[38;5;45mNone\u001b[0m, \u001b[38;5;34m9\u001b[0m, \u001b[38;5;34m256\u001b[0m)    │ \u001b[38;5;34m5,335,8…\u001b[0m │ input_layer_2[\u001b[38;5;34m0\u001b[0m][\u001b[38;5;34m0\u001b[0m],       │    \u001b[1;38;5;34mY\u001b[0m    │\n",
       "│                            │                   │          │ functional[\u001b[38;5;34m0\u001b[0m][\u001b[38;5;34m0\u001b[0m]           │         │\n",
       "├────────────────────────────┼───────────────────┼──────────┼────────────────────────────┼─────────┤\n",
       "│    └ input_layer_3         │ (\u001b[38;5;45mNone\u001b[0m, \u001b[38;5;34m9\u001b[0m)         │        \u001b[38;5;34m0\u001b[0m │ -                          │    \u001b[1m-\u001b[0m    │\n",
       "│ (\u001b[38;5;33mInputLayer\u001b[0m)               │                   │          │                            │         │\n",
       "├────────────────────────────┼───────────────────┼──────────┼────────────────────────────┼─────────┤\n",
       "│    └ embedding_1           │ (\u001b[38;5;45mNone\u001b[0m, \u001b[38;5;34m9\u001b[0m, \u001b[38;5;34m256\u001b[0m)    │  \u001b[38;5;34m864,256\u001b[0m │ -                          │    \u001b[1;38;5;34mY\u001b[0m    │\n",
       "│ (\u001b[38;5;33mEmbedding\u001b[0m)                │                   │          │                            │         │\n",
       "├────────────────────────────┼───────────────────┼──────────┼────────────────────────────┼─────────┤\n",
       "│    └                       │ (\u001b[38;5;45mNone\u001b[0m, \u001b[38;5;34m9\u001b[0m, \u001b[38;5;34m256\u001b[0m)    │ \u001b[38;5;34m2,103,5…\u001b[0m │ -                          │    \u001b[1;38;5;34mY\u001b[0m    │\n",
       "│ multi_head_attention_1     │                   │          │                            │         │\n",
       "│ (\u001b[38;5;33mMultiHeadAttention\u001b[0m)       │                   │          │                            │         │\n",
       "├────────────────────────────┼───────────────────┼──────────┼────────────────────────────┼─────────┤\n",
       "│    └ layer_normalization_2 │ (\u001b[38;5;45mNone\u001b[0m, \u001b[38;5;34m9\u001b[0m, \u001b[38;5;34m256\u001b[0m)    │      \u001b[38;5;34m512\u001b[0m │ -                          │    \u001b[1;38;5;34mY\u001b[0m    │\n",
       "│ (\u001b[38;5;33mLayerNormalization\u001b[0m)       │                   │          │                            │         │\n",
       "├────────────────────────────┼───────────────────┼──────────┼────────────────────────────┼─────────┤\n",
       "│    └ input_layer_4         │ (\u001b[38;5;45mNone\u001b[0m, \u001b[38;5;34m5\u001b[0m, \u001b[38;5;34m256\u001b[0m)    │        \u001b[38;5;34m0\u001b[0m │ -                          │    \u001b[1m-\u001b[0m    │\n",
       "│ (\u001b[38;5;33mInputLayer\u001b[0m)               │                   │          │                            │         │\n",
       "├────────────────────────────┼───────────────────┼──────────┼────────────────────────────┼─────────┤\n",
       "│    └                       │ (\u001b[38;5;45mNone\u001b[0m, \u001b[38;5;34m9\u001b[0m, \u001b[38;5;34m256\u001b[0m)    │ \u001b[38;5;34m2,103,5…\u001b[0m │ -                          │    \u001b[1;38;5;34mY\u001b[0m    │\n",
       "│ multi_head_attention_2     │                   │          │                            │         │\n",
       "│ (\u001b[38;5;33mMultiHeadAttention\u001b[0m)       │                   │          │                            │         │\n",
       "├────────────────────────────┼───────────────────┼──────────┼────────────────────────────┼─────────┤\n",
       "│    └ layer_normalization_3 │ (\u001b[38;5;45mNone\u001b[0m, \u001b[38;5;34m9\u001b[0m, \u001b[38;5;34m256\u001b[0m)    │      \u001b[38;5;34m512\u001b[0m │ -                          │    \u001b[1;38;5;34mY\u001b[0m    │\n",
       "│ (\u001b[38;5;33mLayerNormalization\u001b[0m)       │                   │          │                            │         │\n",
       "├────────────────────────────┼───────────────────┼──────────┼────────────────────────────┼─────────┤\n",
       "│    └ dense_2 (\u001b[38;5;33mDense\u001b[0m)       │ (\u001b[38;5;45mNone\u001b[0m, \u001b[38;5;34m9\u001b[0m, \u001b[38;5;34m512\u001b[0m)    │  \u001b[38;5;34m131,584\u001b[0m │ -                          │    \u001b[1;38;5;34mY\u001b[0m    │\n",
       "├────────────────────────────┼───────────────────┼──────────┼────────────────────────────┼─────────┤\n",
       "│    └ dense_3 (\u001b[38;5;33mDense\u001b[0m)       │ (\u001b[38;5;45mNone\u001b[0m, \u001b[38;5;34m9\u001b[0m, \u001b[38;5;34m256\u001b[0m)    │  \u001b[38;5;34m131,328\u001b[0m │ -                          │    \u001b[1;38;5;34mY\u001b[0m    │\n",
       "├────────────────────────────┼───────────────────┼──────────┼────────────────────────────┼─────────┤\n",
       "│    └ layer_normalization_4 │ (\u001b[38;5;45mNone\u001b[0m, \u001b[38;5;34m9\u001b[0m, \u001b[38;5;34m256\u001b[0m)    │      \u001b[38;5;34m512\u001b[0m │ -                          │    \u001b[1;38;5;34mY\u001b[0m    │\n",
       "│ (\u001b[38;5;33mLayerNormalization\u001b[0m)       │                   │          │                            │         │\n",
       "├────────────────────────────┼───────────────────┼──────────┼────────────────────────────┼─────────┤\n",
       "│ dense_4 (\u001b[38;5;33mDense\u001b[0m)            │ (\u001b[38;5;45mNone\u001b[0m, \u001b[38;5;34m9\u001b[0m, \u001b[38;5;34m3376\u001b[0m)   │  \u001b[38;5;34m867,632\u001b[0m │ functional_1[\u001b[38;5;34m0\u001b[0m][\u001b[38;5;34m0\u001b[0m]         │    \u001b[1;38;5;34mY\u001b[0m    │\n",
       "└────────────────────────────┴───────────────────┴──────────┴────────────────────────────┴─────────┘\n"
      ]
     },
     "metadata": {},
     "output_type": "display_data"
    },
    {
     "data": {
      "text/html": [
       "<pre style=\"white-space:pre;overflow-x:auto;line-height:normal;font-family:Menlo,'DejaVu Sans Mono',consolas,'Courier New',monospace\"><span style=\"font-weight: bold\"> Total params: </span><span style=\"color: #00af00; text-decoration-color: #00af00\">9,002,288</span> (34.34 MB)\n",
       "</pre>\n"
      ],
      "text/plain": [
       "\u001b[1m Total params: \u001b[0m\u001b[38;5;34m9,002,288\u001b[0m (34.34 MB)\n"
      ]
     },
     "metadata": {},
     "output_type": "display_data"
    },
    {
     "data": {
      "text/html": [
       "<pre style=\"white-space:pre;overflow-x:auto;line-height:normal;font-family:Menlo,'DejaVu Sans Mono',consolas,'Courier New',monospace\"><span style=\"font-weight: bold\"> Trainable params: </span><span style=\"color: #00af00; text-decoration-color: #00af00\">9,002,288</span> (34.34 MB)\n",
       "</pre>\n"
      ],
      "text/plain": [
       "\u001b[1m Trainable params: \u001b[0m\u001b[38;5;34m9,002,288\u001b[0m (34.34 MB)\n"
      ]
     },
     "metadata": {},
     "output_type": "display_data"
    },
    {
     "data": {
      "text/html": [
       "<pre style=\"white-space:pre;overflow-x:auto;line-height:normal;font-family:Menlo,'DejaVu Sans Mono',consolas,'Courier New',monospace\"><span style=\"font-weight: bold\"> Non-trainable params: </span><span style=\"color: #00af00; text-decoration-color: #00af00\">0</span> (0.00 B)\n",
       "</pre>\n"
      ],
      "text/plain": [
       "\u001b[1m Non-trainable params: \u001b[0m\u001b[38;5;34m0\u001b[0m (0.00 B)\n"
      ]
     },
     "metadata": {},
     "output_type": "display_data"
    }
   ],
   "source": [
    "# Print summary of model in extreme detail\n",
    "model.summary(\n",
    "    expand_nested=True,\n",
    "    show_trainable=True,\n",
    "    line_length=100,\n",
    "    positions=[.33, .55, .67, 1.]\n",
    ")"
   ]
  },
  {
   "cell_type": "code",
   "execution_count": 8,
   "metadata": {},
   "outputs": [
    {
     "name": "stdout",
     "output_type": "stream",
     "text": [
      "Epoch 1/20\n",
      "\u001b[1m16/16\u001b[0m \u001b[32m━━━━━━━━━━━━━━━━━━━━\u001b[0m\u001b[37m\u001b[0m \u001b[1m90s\u001b[0m 5s/step - loss: 13.7993 - val_loss: 5.8589 - learning_rate: 0.0905\n",
      "Epoch 2/20\n",
      "\u001b[1m16/16\u001b[0m \u001b[32m━━━━━━━━━━━━━━━━━━━━\u001b[0m\u001b[37m\u001b[0m \u001b[1m86s\u001b[0m 5s/step - loss: 4.8597 - val_loss: 5.8364 - learning_rate: 0.0819\n",
      "Epoch 3/20\n",
      "\u001b[1m16/16\u001b[0m \u001b[32m━━━━━━━━━━━━━━━━━━━━\u001b[0m\u001b[37m\u001b[0m \u001b[1m82s\u001b[0m 5s/step - loss: 3.2099 - val_loss: 3.3698 - learning_rate: 0.0741\n",
      "Epoch 4/20\n",
      "\u001b[1m16/16\u001b[0m \u001b[32m━━━━━━━━━━━━━━━━━━━━\u001b[0m\u001b[37m\u001b[0m \u001b[1m89s\u001b[0m 6s/step - loss: 2.3093 - val_loss: 2.7776 - learning_rate: 0.0670\n",
      "Epoch 5/20\n",
      "\u001b[1m16/16\u001b[0m \u001b[32m━━━━━━━━━━━━━━━━━━━━\u001b[0m\u001b[37m\u001b[0m \u001b[1m96s\u001b[0m 6s/step - loss: 2.0883 - val_loss: 2.6431 - learning_rate: 0.0607\n",
      "Epoch 6/20\n",
      "\u001b[1m16/16\u001b[0m \u001b[32m━━━━━━━━━━━━━━━━━━━━\u001b[0m\u001b[37m\u001b[0m \u001b[1m91s\u001b[0m 6s/step - loss: 2.0433 - val_loss: 2.6621 - learning_rate: 0.0549\n",
      "Epoch 7/20\n",
      "\u001b[1m16/16\u001b[0m \u001b[32m━━━━━━━━━━━━━━━━━━━━\u001b[0m\u001b[37m\u001b[0m \u001b[1m90s\u001b[0m 6s/step - loss: 2.0355 - val_loss: 2.6471 - learning_rate: 0.0497\n",
      "Epoch 8/20\n",
      "\u001b[1m16/16\u001b[0m \u001b[32m━━━━━━━━━━━━━━━━━━━━\u001b[0m\u001b[37m\u001b[0m \u001b[1m96s\u001b[0m 6s/step - loss: 2.0220 - val_loss: 2.6498 - learning_rate: 0.0449\n",
      "Epoch 9/20\n",
      "\u001b[1m16/16\u001b[0m \u001b[32m━━━━━━━━━━━━━━━━━━━━\u001b[0m\u001b[37m\u001b[0m \u001b[1m104s\u001b[0m 7s/step - loss: 2.0362 - val_loss: 2.6348 - learning_rate: 0.0407\n",
      "Epoch 10/20\n",
      "\u001b[1m16/16\u001b[0m \u001b[32m━━━━━━━━━━━━━━━━━━━━\u001b[0m\u001b[37m\u001b[0m \u001b[1m85s\u001b[0m 5s/step - loss: 2.0236 - val_loss: 2.6198 - learning_rate: 0.0368\n",
      "Epoch 11/20\n",
      "\u001b[1m16/16\u001b[0m \u001b[32m━━━━━━━━━━━━━━━━━━━━\u001b[0m\u001b[37m\u001b[0m \u001b[1m80s\u001b[0m 5s/step - loss: 2.0124 - val_loss: 2.6511 - learning_rate: 0.0333\n",
      "Epoch 12/20\n",
      "\u001b[1m16/16\u001b[0m \u001b[32m━━━━━━━━━━━━━━━━━━━━\u001b[0m\u001b[37m\u001b[0m \u001b[1m81s\u001b[0m 5s/step - loss: 2.0095 - val_loss: 2.6240 - learning_rate: 0.0301\n",
      "Epoch 13/20\n",
      "\u001b[1m16/16\u001b[0m \u001b[32m━━━━━━━━━━━━━━━━━━━━\u001b[0m\u001b[37m\u001b[0m \u001b[1m85s\u001b[0m 5s/step - loss: 2.0050 - val_loss: 2.6276 - learning_rate: 0.0273\n",
      "Epoch 14/20\n",
      "\u001b[1m16/16\u001b[0m \u001b[32m━━━━━━━━━━━━━━━━━━━━\u001b[0m\u001b[37m\u001b[0m \u001b[1m85s\u001b[0m 5s/step - loss: 1.9972 - val_loss: 2.6383 - learning_rate: 0.0247\n",
      "Epoch 15/20\n",
      "\u001b[1m16/16\u001b[0m \u001b[32m━━━━━━━━━━━━━━━━━━━━\u001b[0m\u001b[37m\u001b[0m \u001b[1m84s\u001b[0m 5s/step - loss: 2.0253 - val_loss: 2.6402 - learning_rate: 0.0223\n"
     ]
    }
   ],
   "source": [
    "early_stopping = keras.callbacks.EarlyStopping(monitor='val_loss', patience=5)\n",
    "model_checkpoint = keras.callbacks.ModelCheckpoint('seq2seq_transformer.keras', save_best_only=True)\n",
    "\n",
    "def scheduler(epoch, lr):\n",
    "    return float(lr * tf.math.exp(-0.1))\n",
    "\n",
    "lr_scheduler = keras.callbacks.LearningRateScheduler(scheduler)\n",
    "\n",
    "tensorboard = keras.callbacks.TensorBoard(log_dir='logs')\n",
    "\n",
    "history = model.fit(\n",
    "    [eng_sequences, fra_input_sequences],\n",
    "    np.expand_dims(fra_output_sequences, -1),\n",
    "    epochs=20,\n",
    "    batch_size=256,\n",
    "    validation_split=0.2,\n",
    "    callbacks=[early_stopping, model_checkpoint, lr_scheduler, tensorboard]\n",
    ")"
   ]
  },
  {
   "cell_type": "code",
   "execution_count": 9,
   "metadata": {},
   "outputs": [
    {
     "data": {
      "image/png": "[encoded data removed]",
      "text/plain": [
       "<Figure size 640x480 with 1 Axes>"
      ]
     },
     "metadata": {},
     "output_type": "display_data"
    }
   ],
   "source": [
    "import matplotlib.pyplot as plt\n",
    "\n",
    "plt.plot(history.history['loss'], label='train')\n",
    "plt.plot(history.history['val_loss'], label='validation')\n",
    "plt.legend()\n",
    "plt.show()"
   ]
  }
 ],
 "metadata": {
  "kernelspec": {
   "display_name": "myenv",
   "language": "python",
   "name": "python3"
  },
  "language_info": {
   "codemirror_mode": {
    "name": "ipython",
    "version": 3
   },
   "file_extension": ".py",
   "mimetype": "text/x-python",
   "name": "python",
   "nbconvert_exporter": "python",
   "pygments_lexer": "ipython3",
   "version": "3.9.6"
  }
 },
 "nbformat": 4,
 "nbformat_minor": 2
}
