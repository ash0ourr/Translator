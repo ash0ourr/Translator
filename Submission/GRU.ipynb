{
 "cells": [
  {
   "cell_type": "code",
   "execution_count": 1,
   "metadata": {},
   "outputs": [],
   "source": [
    "import pandas as pd\n",
    "import numpy as np\n",
    "\n",
    "import warnings\n",
    "warnings.filterwarnings('ignore')\n",
    "\n",
    "import tensorflow as tf\n",
    "from tensorflow import keras\n",
    "from tensorflow.keras.layers import Input, GRU, Embedding, Dense\n",
    "from tensorflow.keras.models import Model\n",
    "from tensorflow.keras.preprocessing.text import Tokenizer\n",
    "from tensorflow.keras.preprocessing.sequence import pad_sequences\n",
    "from tensorflow.keras.optimizers import Adam"
   ]
  },
  {
   "cell_type": "code",
   "execution_count": 2,
   "metadata": {},
   "outputs": [],
   "source": [
    "data = pd.read_csv('dataset.csv') #dataset.csv is expected to contain data in a tabular format,\n",
    "input_texts = data['English words/sentences'].values\n",
    "target_texts = data['French words/sentences'].values\n",
    "\n",
    "# Cut the data to work faster, for now!\n",
    "input_texts = input_texts[:5000]\n",
    "target_texts = target_texts[:5000]"
   ]
  },
  {
   "cell_type": "code",
   "execution_count": 3,
   "metadata": {},
   "outputs": [
    {
     "data": {
      "text/plain": [
       "((5000,), (5000,))"
      ]
     },
     "execution_count": 3,
     "metadata": {},
     "output_type": "execute_result"
    }
   ],
   "source": [
    "input_texts.shape, target_texts.shape"
   ]
  },
  {
   "cell_type": "code",
   "execution_count": 4,
   "metadata": {},
   "outputs": [],
   "source": [
    "eng_tokenizer = Tokenizer(filters='') #Keras Tokenizer for models that require numeric input, because it simplifies text data by converting it into sequences of integers\n",
    "eng_tokenizer.fit_on_texts(input_texts) #Tokenizer scans through all the sentences in input_texts and assigns a unique integer to each word, After this step, the tokenizer will have created a word_index attribute, which is a dictionary mapping each word to a unique integer\n",
    "eng_sequences = eng_tokenizer.texts_to_sequences(input_texts) #I love cats\" might be converted into [2, 5, 12], where 2, 5, and 12,  based on the word_index, eng_sequences is now a list of lists\n",
    "eng_vocab_size = len(eng_tokenizer.word_index) + 1  #will be used when defining the embedding layer in the neural network to ensure the model knows how many unique words exist, +1 is added because the integer 0 is often reserved for padding or other special tokens\n",
    "max_eng_len = max(len(seq) for seq in eng_sequences) # important because all input sentences will need to be padded to the same length for training the model. Knowing the maximum length helps you determine the necessary padding.\n",
    "\n",
    "fra_tokenizer = Tokenizer(filters='') \n",
    "fra_tokenizer.fit_on_texts(target_texts)\n",
    "fra_sequences = fra_tokenizer.texts_to_sequences(target_texts)\n",
    "fra_vocab_size = len(fra_tokenizer.word_index) + 1\n",
    "max_fra_len = max(len(seq) for seq in fra_sequences)"
   ]
  },
  {
   "cell_type": "code",
   "execution_count": 5,
   "metadata": {},
   "outputs": [],
   "source": [
    "# Pad\n",
    "eng_sequences = pad_sequences(eng_sequences, maxlen=max_eng_len, padding='post')\n",
    "fra_sequences = pad_sequences(fra_sequences, maxlen=max_fra_len, padding='post')\n",
    "\n",
    "# Split\n",
    "fra_input_sequences = fra_sequences[:, :-1] #To prepare the input sequences for the French language in the Seq2Seq model, So if a French sequence is [2, 4, 5, 8], it will become [2, 4, 5].\n",
    "#This is done because in a Seq2Seq model, the input to the decoder (target language) should be the sentence without the last token.\n",
    "fra_output_sequences = fra_sequences[:, 1:] #To create the output sequences for the French language, which the model will predict.\n",
    "#if a French sequence is [2, 4, 5, 8], it will become [4, 5, 8], to predict the next token in the sequence, given the previous ones."
   ]
  },
  {
   "cell_type": "code",
   "execution_count": 6,
   "metadata": {},
   "outputs": [],
   "source": [
    "# Model HPs\n",
    "embedding_dim = 256 # Instead of representing words as one-hot encoded vectors the embedding layer transforms each word into a dense vector of size embedding_dim,  help the model learn semantic relationships between words.\n",
    "latent_dim = 512 #allows the model to capture more complex patterns in the data but also increases the computational requirements, size of the hidden state"
   ]
  },
  {
   "cell_type": "code",
   "execution_count": 7,
   "metadata": {},
   "outputs": [],
   "source": [
    "# Encoder\n",
    "encoder_inputs = Input(shape=(max_eng_len,))\n",
    "encoder_embedding = Embedding(eng_vocab_size, embedding_dim)(encoder_inputs)\n",
    "#The Embedding() layer maps the integer-encoded words in encoder_inputs to dense vectors of size embedding_dim (256 in this case).\n",
    "encoder_gru, state_h = GRU(latent_dim, return_state=True)(encoder_embedding)\n",
    "encoder_states = [state_h] #the hidden state produced by the encoder represents the \"context vector\" that encodes the meaning of the input sentence. This is passed to the decoder to help generate the translated sentence.\n",
    "\n",
    "# Decoder\n",
    "decoder_inputs = Input(shape=(max_fra_len-1,))\n",
    "decoder_embedding = Embedding(fra_vocab_size, embedding_dim)(decoder_inputs)\n",
    "decoder_gru = GRU(latent_dim, return_sequences=True, return_state=True)\n",
    "decoder_outputs, state_h_dec = decoder_gru(decoder_embedding, initial_state=encoder_states)\n",
    "decoder_dense = Dense(fra_vocab_size, activation='softmax') #ensures that each output word from the decoder corresponds to a probability distribution over the entire French vocabulary. softmax activation function converts the raw output into probabilities \n",
    "decoder_outputs = decoder_dense(decoder_outputs)\n"
   ]
  },
  {
   "cell_type": "code",
   "execution_count": 8,
   "metadata": {},
   "outputs": [],
   "source": [
    "# Build model\n",
    "model = Model([encoder_inputs, decoder_inputs], decoder_outputs)\n",
    "model.compile(\n",
    "    optimizer=Adam(learning_rate=0.1), #AdaGrad (adaptive learning rates) and RMSProp (adaptive momentum).\n",
    "    loss='sparse_categorical_crossentropy', #is used when the target labels are integers\n",
    "    metrics=['accuracy', 'sparse_categorical_crossentropy'] # is used when the target labels are integers (not one-hot encoded). \n",
    ")"
   ]
  },
  {
   "cell_type": "code",
   "execution_count": 9,
   "metadata": {},
   "outputs": [
    {
     "data": {
      "text/html": [
       "<pre style=\"white-space:pre;overflow-x:auto;line-height:normal;font-family:Menlo,'DejaVu Sans Mono',consolas,'Courier New',monospace\"><span style=\"font-weight: bold\">Model: \"functional\"</span>\n",
       "</pre>\n"
      ],
      "text/plain": [
       "\u001b[1mModel: \"functional\"\u001b[0m\n"
      ]
     },
     "metadata": {},
     "output_type": "display_data"
    },
    {
     "data": {
      "text/html": [
       "<pre style=\"white-space:pre;overflow-x:auto;line-height:normal;font-family:Menlo,'DejaVu Sans Mono',consolas,'Courier New',monospace\">┏━━━━━━━━━━━━━━━━━━━━━━━━━━━━┳━━━━━━━━━━━━━━━━━━━┳━━━━━━━━━━┳━━━━━━━━━━━━━━━━━━━━━━━━━━━━┳━━━━━━━━━┓\n",
       "┃<span style=\"font-weight: bold\"> Layer (type)               </span>┃<span style=\"font-weight: bold\"> Output Shape      </span>┃<span style=\"font-weight: bold\">  Param # </span>┃<span style=\"font-weight: bold\"> Connected to               </span>┃<span style=\"font-weight: bold\"> Traina… </span>┃\n",
       "┡━━━━━━━━━━━━━━━━━━━━━━━━━━━━╇━━━━━━━━━━━━━━━━━━━╇━━━━━━━━━━╇━━━━━━━━━━━━━━━━━━━━━━━━━━━━╇━━━━━━━━━┩\n",
       "│ input_layer (<span style=\"color: #0087ff; text-decoration-color: #0087ff\">InputLayer</span>)   │ (<span style=\"color: #00d7ff; text-decoration-color: #00d7ff\">None</span>, <span style=\"color: #00af00; text-decoration-color: #00af00\">5</span>)         │        <span style=\"color: #00af00; text-decoration-color: #00af00\">0</span> │ -                          │    <span style=\"font-weight: bold\">-</span>    │\n",
       "├────────────────────────────┼───────────────────┼──────────┼────────────────────────────┼─────────┤\n",
       "│ input_layer_1 (<span style=\"color: #0087ff; text-decoration-color: #0087ff\">InputLayer</span>) │ (<span style=\"color: #00d7ff; text-decoration-color: #00d7ff\">None</span>, <span style=\"color: #00af00; text-decoration-color: #00af00\">9</span>)         │        <span style=\"color: #00af00; text-decoration-color: #00af00\">0</span> │ -                          │    <span style=\"font-weight: bold\">-</span>    │\n",
       "├────────────────────────────┼───────────────────┼──────────┼────────────────────────────┼─────────┤\n",
       "│ embedding (<span style=\"color: #0087ff; text-decoration-color: #0087ff\">Embedding</span>)      │ (<span style=\"color: #00d7ff; text-decoration-color: #00d7ff\">None</span>, <span style=\"color: #00af00; text-decoration-color: #00af00\">5</span>, <span style=\"color: #00af00; text-decoration-color: #00af00\">256</span>)    │  <span style=\"color: #00af00; text-decoration-color: #00af00\">431,360</span> │ input_layer[<span style=\"color: #00af00; text-decoration-color: #00af00\">0</span>][<span style=\"color: #00af00; text-decoration-color: #00af00\">0</span>]          │    <span style=\"color: #00af00; text-decoration-color: #00af00; font-weight: bold\">Y</span>    │\n",
       "├────────────────────────────┼───────────────────┼──────────┼────────────────────────────┼─────────┤\n",
       "│ embedding_1 (<span style=\"color: #0087ff; text-decoration-color: #0087ff\">Embedding</span>)    │ (<span style=\"color: #00d7ff; text-decoration-color: #00d7ff\">None</span>, <span style=\"color: #00af00; text-decoration-color: #00af00\">9</span>, <span style=\"color: #00af00; text-decoration-color: #00af00\">256</span>)    │  <span style=\"color: #00af00; text-decoration-color: #00af00\">864,256</span> │ input_layer_1[<span style=\"color: #00af00; text-decoration-color: #00af00\">0</span>][<span style=\"color: #00af00; text-decoration-color: #00af00\">0</span>]        │    <span style=\"color: #00af00; text-decoration-color: #00af00; font-weight: bold\">Y</span>    │\n",
       "├────────────────────────────┼───────────────────┼──────────┼────────────────────────────┼─────────┤\n",
       "│ gru (<span style=\"color: #0087ff; text-decoration-color: #0087ff\">GRU</span>)                  │ [(<span style=\"color: #00d7ff; text-decoration-color: #00d7ff\">None</span>, <span style=\"color: #00af00; text-decoration-color: #00af00\">512</span>),     │ <span style=\"color: #00af00; text-decoration-color: #00af00\">1,182,7…</span> │ embedding[<span style=\"color: #00af00; text-decoration-color: #00af00\">0</span>][<span style=\"color: #00af00; text-decoration-color: #00af00\">0</span>]            │    <span style=\"color: #00af00; text-decoration-color: #00af00; font-weight: bold\">Y</span>    │\n",
       "│                            │ (<span style=\"color: #00d7ff; text-decoration-color: #00d7ff\">None</span>, <span style=\"color: #00af00; text-decoration-color: #00af00\">512</span>)]      │          │                            │         │\n",
       "├────────────────────────────┼───────────────────┼──────────┼────────────────────────────┼─────────┤\n",
       "│ gru_1 (<span style=\"color: #0087ff; text-decoration-color: #0087ff\">GRU</span>)                │ [(<span style=\"color: #00d7ff; text-decoration-color: #00d7ff\">None</span>, <span style=\"color: #00af00; text-decoration-color: #00af00\">9</span>, <span style=\"color: #00af00; text-decoration-color: #00af00\">512</span>),  │ <span style=\"color: #00af00; text-decoration-color: #00af00\">1,182,7…</span> │ embedding_1[<span style=\"color: #00af00; text-decoration-color: #00af00\">0</span>][<span style=\"color: #00af00; text-decoration-color: #00af00\">0</span>],         │    <span style=\"color: #00af00; text-decoration-color: #00af00; font-weight: bold\">Y</span>    │\n",
       "│                            │ (<span style=\"color: #00d7ff; text-decoration-color: #00d7ff\">None</span>, <span style=\"color: #00af00; text-decoration-color: #00af00\">512</span>)]      │          │ gru[<span style=\"color: #00af00; text-decoration-color: #00af00\">0</span>][<span style=\"color: #00af00; text-decoration-color: #00af00\">1</span>]                  │         │\n",
       "├────────────────────────────┼───────────────────┼──────────┼────────────────────────────┼─────────┤\n",
       "│ dense (<span style=\"color: #0087ff; text-decoration-color: #0087ff\">Dense</span>)              │ (<span style=\"color: #00d7ff; text-decoration-color: #00d7ff\">None</span>, <span style=\"color: #00af00; text-decoration-color: #00af00\">9</span>, <span style=\"color: #00af00; text-decoration-color: #00af00\">3376</span>)   │ <span style=\"color: #00af00; text-decoration-color: #00af00\">1,731,8…</span> │ gru_1[<span style=\"color: #00af00; text-decoration-color: #00af00\">0</span>][<span style=\"color: #00af00; text-decoration-color: #00af00\">0</span>]                │    <span style=\"color: #00af00; text-decoration-color: #00af00; font-weight: bold\">Y</span>    │\n",
       "└────────────────────────────┴───────────────────┴──────────┴────────────────────────────┴─────────┘\n",
       "</pre>\n"
      ],
      "text/plain": [
       "┏━━━━━━━━━━━━━━━━━━━━━━━━━━━━┳━━━━━━━━━━━━━━━━━━━┳━━━━━━━━━━┳━━━━━━━━━━━━━━━━━━━━━━━━━━━━┳━━━━━━━━━┓\n",
       "┃\u001b[1m \u001b[0m\u001b[1mLayer (type)              \u001b[0m\u001b[1m \u001b[0m┃\u001b[1m \u001b[0m\u001b[1mOutput Shape     \u001b[0m\u001b[1m \u001b[0m┃\u001b[1m \u001b[0m\u001b[1m Param #\u001b[0m\u001b[1m \u001b[0m┃\u001b[1m \u001b[0m\u001b[1mConnected to              \u001b[0m\u001b[1m \u001b[0m┃\u001b[1m \u001b[0m\u001b[1mTraina…\u001b[0m\u001b[1m \u001b[0m┃\n",
       "┡━━━━━━━━━━━━━━━━━━━━━━━━━━━━╇━━━━━━━━━━━━━━━━━━━╇━━━━━━━━━━╇━━━━━━━━━━━━━━━━━━━━━━━━━━━━╇━━━━━━━━━┩\n",
       "│ input_layer (\u001b[38;5;33mInputLayer\u001b[0m)   │ (\u001b[38;5;45mNone\u001b[0m, \u001b[38;5;34m5\u001b[0m)         │        \u001b[38;5;34m0\u001b[0m │ -                          │    \u001b[1m-\u001b[0m    │\n",
       "├────────────────────────────┼───────────────────┼──────────┼────────────────────────────┼─────────┤\n",
       "│ input_layer_1 (\u001b[38;5;33mInputLayer\u001b[0m) │ (\u001b[38;5;45mNone\u001b[0m, \u001b[38;5;34m9\u001b[0m)         │        \u001b[38;5;34m0\u001b[0m │ -                          │    \u001b[1m-\u001b[0m    │\n",
       "├────────────────────────────┼───────────────────┼──────────┼────────────────────────────┼─────────┤\n",
       "│ embedding (\u001b[38;5;33mEmbedding\u001b[0m)      │ (\u001b[38;5;45mNone\u001b[0m, \u001b[38;5;34m5\u001b[0m, \u001b[38;5;34m256\u001b[0m)    │  \u001b[38;5;34m431,360\u001b[0m │ input_layer[\u001b[38;5;34m0\u001b[0m][\u001b[38;5;34m0\u001b[0m]          │    \u001b[1;38;5;34mY\u001b[0m    │\n",
       "├────────────────────────────┼───────────────────┼──────────┼────────────────────────────┼─────────┤\n",
       "│ embedding_1 (\u001b[38;5;33mEmbedding\u001b[0m)    │ (\u001b[38;5;45mNone\u001b[0m, \u001b[38;5;34m9\u001b[0m, \u001b[38;5;34m256\u001b[0m)    │  \u001b[38;5;34m864,256\u001b[0m │ input_layer_1[\u001b[38;5;34m0\u001b[0m][\u001b[38;5;34m0\u001b[0m]        │    \u001b[1;38;5;34mY\u001b[0m    │\n",
       "├────────────────────────────┼───────────────────┼──────────┼────────────────────────────┼─────────┤\n",
       "│ gru (\u001b[38;5;33mGRU\u001b[0m)                  │ [(\u001b[38;5;45mNone\u001b[0m, \u001b[38;5;34m512\u001b[0m),     │ \u001b[38;5;34m1,182,7…\u001b[0m │ embedding[\u001b[38;5;34m0\u001b[0m][\u001b[38;5;34m0\u001b[0m]            │    \u001b[1;38;5;34mY\u001b[0m    │\n",
       "│                            │ (\u001b[38;5;45mNone\u001b[0m, \u001b[38;5;34m512\u001b[0m)]      │          │                            │         │\n",
       "├────────────────────────────┼───────────────────┼──────────┼────────────────────────────┼─────────┤\n",
       "│ gru_1 (\u001b[38;5;33mGRU\u001b[0m)                │ [(\u001b[38;5;45mNone\u001b[0m, \u001b[38;5;34m9\u001b[0m, \u001b[38;5;34m512\u001b[0m),  │ \u001b[38;5;34m1,182,7…\u001b[0m │ embedding_1[\u001b[38;5;34m0\u001b[0m][\u001b[38;5;34m0\u001b[0m],         │    \u001b[1;38;5;34mY\u001b[0m    │\n",
       "│                            │ (\u001b[38;5;45mNone\u001b[0m, \u001b[38;5;34m512\u001b[0m)]      │          │ gru[\u001b[38;5;34m0\u001b[0m][\u001b[38;5;34m1\u001b[0m]                  │         │\n",
       "├────────────────────────────┼───────────────────┼──────────┼────────────────────────────┼─────────┤\n",
       "│ dense (\u001b[38;5;33mDense\u001b[0m)              │ (\u001b[38;5;45mNone\u001b[0m, \u001b[38;5;34m9\u001b[0m, \u001b[38;5;34m3376\u001b[0m)   │ \u001b[38;5;34m1,731,8…\u001b[0m │ gru_1[\u001b[38;5;34m0\u001b[0m][\u001b[38;5;34m0\u001b[0m]                │    \u001b[1;38;5;34mY\u001b[0m    │\n",
       "└────────────────────────────┴───────────────────┴──────────┴────────────────────────────┴─────────┘\n"
      ]
     },
     "metadata": {},
     "output_type": "display_data"
    },
    {
     "data": {
      "text/html": [
       "<pre style=\"white-space:pre;overflow-x:auto;line-height:normal;font-family:Menlo,'DejaVu Sans Mono',consolas,'Courier New',monospace\"><span style=\"font-weight: bold\"> Total params: </span><span style=\"color: #00af00; text-decoration-color: #00af00\">5,392,944</span> (20.57 MB)\n",
       "</pre>\n"
      ],
      "text/plain": [
       "\u001b[1m Total params: \u001b[0m\u001b[38;5;34m5,392,944\u001b[0m (20.57 MB)\n"
      ]
     },
     "metadata": {},
     "output_type": "display_data"
    },
    {
     "data": {
      "text/html": [
       "<pre style=\"white-space:pre;overflow-x:auto;line-height:normal;font-family:Menlo,'DejaVu Sans Mono',consolas,'Courier New',monospace\"><span style=\"font-weight: bold\"> Trainable params: </span><span style=\"color: #00af00; text-decoration-color: #00af00\">5,392,944</span> (20.57 MB)\n",
       "</pre>\n"
      ],
      "text/plain": [
       "\u001b[1m Trainable params: \u001b[0m\u001b[38;5;34m5,392,944\u001b[0m (20.57 MB)\n"
      ]
     },
     "metadata": {},
     "output_type": "display_data"
    },
    {
     "data": {
      "text/html": [
       "<pre style=\"white-space:pre;overflow-x:auto;line-height:normal;font-family:Menlo,'DejaVu Sans Mono',consolas,'Courier New',monospace\"><span style=\"font-weight: bold\"> Non-trainable params: </span><span style=\"color: #00af00; text-decoration-color: #00af00\">0</span> (0.00 B)\n",
       "</pre>\n"
      ],
      "text/plain": [
       "\u001b[1m Non-trainable params: \u001b[0m\u001b[38;5;34m0\u001b[0m (0.00 B)\n"
      ]
     },
     "metadata": {},
     "output_type": "display_data"
    }
   ],
   "source": [
    "# Print summary of model in extreme detail\n",
    "model.summary(\n",
    "    expand_nested=True,\n",
    "    show_trainable=True,\n",
    "    line_length=100,\n",
    "    positions=[.33, .55, .67, 1.]\n",
    ")"
   ]
  },
  {
   "cell_type": "code",
   "execution_count": 10,
   "metadata": {},
   "outputs": [
    {
     "name": "stdout",
     "output_type": "stream",
     "text": [
      "Epoch 1/20\n",
      "\u001b[1m16/16\u001b[0m \u001b[32m━━━━━━━━━━━━━━━━━━━━\u001b[0m\u001b[37m\u001b[0m \u001b[1m30s\u001b[0m 2s/step - accuracy: 0.4040 - loss: 16.2678 - sparse_categorical_crossentropy: 16.2678 - val_accuracy: 0.7184 - val_loss: 34.1839 - val_sparse_categorical_crossentropy: 34.1839 - learning_rate: 0.0905\n",
      "Epoch 2/20\n",
      "\u001b[1m16/16\u001b[0m \u001b[32m━━━━━━━━━━━━━━━━━━━━\u001b[0m\u001b[37m\u001b[0m \u001b[1m23s\u001b[0m 1s/step - accuracy: 0.7446 - loss: 23.9250 - sparse_categorical_crossentropy: 23.9250 - val_accuracy: 0.7307 - val_loss: 24.7802 - val_sparse_categorical_crossentropy: 24.7802 - learning_rate: 0.0819\n",
      "Epoch 3/20\n",
      "\u001b[1m16/16\u001b[0m \u001b[32m━━━━━━━━━━━━━━━━━━━━\u001b[0m\u001b[37m\u001b[0m \u001b[1m28s\u001b[0m 2s/step - accuracy: 0.7529 - loss: 13.4521 - sparse_categorical_crossentropy: 13.4521 - val_accuracy: 0.7319 - val_loss: 19.6658 - val_sparse_categorical_crossentropy: 19.6658 - learning_rate: 0.0741\n",
      "Epoch 4/20\n",
      "\u001b[1m16/16\u001b[0m \u001b[32m━━━━━━━━━━━━━━━━━━━━\u001b[0m\u001b[37m\u001b[0m \u001b[1m32s\u001b[0m 2s/step - accuracy: 0.7738 - loss: 9.4324 - sparse_categorical_crossentropy: 9.4324 - val_accuracy: 0.7366 - val_loss: 14.9160 - val_sparse_categorical_crossentropy: 14.9160 - learning_rate: 0.0670\n",
      "Epoch 5/20\n",
      "\u001b[1m16/16\u001b[0m \u001b[32m━━━━━━━━━━━━━━━━━━━━\u001b[0m\u001b[37m\u001b[0m \u001b[1m23s\u001b[0m 1s/step - accuracy: 0.7799 - loss: 7.0620 - sparse_categorical_crossentropy: 7.0620 - val_accuracy: 0.7463 - val_loss: 13.6359 - val_sparse_categorical_crossentropy: 13.6359 - learning_rate: 0.0607\n",
      "Epoch 6/20\n",
      "\u001b[1m16/16\u001b[0m \u001b[32m━━━━━━━━━━━━━━━━━━━━\u001b[0m\u001b[37m\u001b[0m \u001b[1m25s\u001b[0m 2s/step - accuracy: 0.7899 - loss: 5.9692 - sparse_categorical_crossentropy: 5.9692 - val_accuracy: 0.7504 - val_loss: 12.4792 - val_sparse_categorical_crossentropy: 12.4792 - learning_rate: 0.0549\n",
      "Epoch 7/20\n",
      "\u001b[1m16/16\u001b[0m \u001b[32m━━━━━━━━━━━━━━━━━━━━\u001b[0m\u001b[37m\u001b[0m \u001b[1m27s\u001b[0m 2s/step - accuracy: 0.8007 - loss: 4.8409 - sparse_categorical_crossentropy: 4.8409 - val_accuracy: 0.7456 - val_loss: 11.2092 - val_sparse_categorical_crossentropy: 11.2092 - learning_rate: 0.0497\n",
      "Epoch 8/20\n",
      "\u001b[1m16/16\u001b[0m \u001b[32m━━━━━━━━━━━━━━━━━━━━\u001b[0m\u001b[37m\u001b[0m \u001b[1m27s\u001b[0m 2s/step - accuracy: 0.8088 - loss: 3.8828 - sparse_categorical_crossentropy: 3.8828 - val_accuracy: 0.7560 - val_loss: 10.4880 - val_sparse_categorical_crossentropy: 10.4880 - learning_rate: 0.0449\n",
      "Epoch 9/20\n",
      "\u001b[1m16/16\u001b[0m \u001b[32m━━━━━━━━━━━━━━━━━━━━\u001b[0m\u001b[37m\u001b[0m \u001b[1m35s\u001b[0m 2s/step - accuracy: 0.8148 - loss: 3.1405 - sparse_categorical_crossentropy: 3.1405 - val_accuracy: 0.7547 - val_loss: 9.9039 - val_sparse_categorical_crossentropy: 9.9039 - learning_rate: 0.0407\n",
      "Epoch 10/20\n",
      "\u001b[1m16/16\u001b[0m \u001b[32m━━━━━━━━━━━━━━━━━━━━\u001b[0m\u001b[37m\u001b[0m \u001b[1m29s\u001b[0m 2s/step - accuracy: 0.8245 - loss: 2.5738 - sparse_categorical_crossentropy: 2.5738 - val_accuracy: 0.7592 - val_loss: 9.4272 - val_sparse_categorical_crossentropy: 9.4272 - learning_rate: 0.0368\n",
      "Epoch 11/20\n",
      "\u001b[1m16/16\u001b[0m \u001b[32m━━━━━━━━━━━━━━━━━━━━\u001b[0m\u001b[37m\u001b[0m \u001b[1m30s\u001b[0m 2s/step - accuracy: 0.8325 - loss: 2.0735 - sparse_categorical_crossentropy: 2.0735 - val_accuracy: 0.7600 - val_loss: 8.8356 - val_sparse_categorical_crossentropy: 8.8356 - learning_rate: 0.0333\n",
      "Epoch 12/20\n",
      "\u001b[1m16/16\u001b[0m \u001b[32m━━━━━━━━━━━━━━━━━━━━\u001b[0m\u001b[37m\u001b[0m \u001b[1m34s\u001b[0m 2s/step - accuracy: 0.8416 - loss: 1.8087 - sparse_categorical_crossentropy: 1.8087 - val_accuracy: 0.7592 - val_loss: 8.6334 - val_sparse_categorical_crossentropy: 8.6334 - learning_rate: 0.0301\n",
      "Epoch 13/20\n",
      "\u001b[1m16/16\u001b[0m \u001b[32m━━━━━━━━━━━━━━━━━━━━\u001b[0m\u001b[37m\u001b[0m \u001b[1m39s\u001b[0m 2s/step - accuracy: 0.8495 - loss: 1.5543 - sparse_categorical_crossentropy: 1.5543 - val_accuracy: 0.7539 - val_loss: 8.3953 - val_sparse_categorical_crossentropy: 8.3953 - learning_rate: 0.0273\n",
      "Epoch 14/20\n",
      "\u001b[1m16/16\u001b[0m \u001b[32m━━━━━━━━━━━━━━━━━━━━\u001b[0m\u001b[37m\u001b[0m \u001b[1m37s\u001b[0m 2s/step - accuracy: 0.8544 - loss: 1.2755 - sparse_categorical_crossentropy: 1.2755 - val_accuracy: 0.7586 - val_loss: 8.2827 - val_sparse_categorical_crossentropy: 8.2827 - learning_rate: 0.0247\n",
      "Epoch 15/20\n",
      "\u001b[1m16/16\u001b[0m \u001b[32m━━━━━━━━━━━━━━━━━━━━\u001b[0m\u001b[37m\u001b[0m \u001b[1m40s\u001b[0m 3s/step - accuracy: 0.8688 - loss: 1.0477 - sparse_categorical_crossentropy: 1.0477 - val_accuracy: 0.7653 - val_loss: 8.2017 - val_sparse_categorical_crossentropy: 8.2017 - learning_rate: 0.0223\n",
      "Epoch 16/20\n",
      "\u001b[1m16/16\u001b[0m \u001b[32m━━━━━━━━━━━━━━━━━━━━\u001b[0m\u001b[37m\u001b[0m \u001b[1m41s\u001b[0m 2s/step - accuracy: 0.8710 - loss: 0.9271 - sparse_categorical_crossentropy: 0.9271 - val_accuracy: 0.7629 - val_loss: 8.1066 - val_sparse_categorical_crossentropy: 8.1066 - learning_rate: 0.0202\n",
      "Epoch 17/20\n",
      "\u001b[1m16/16\u001b[0m \u001b[32m━━━━━━━━━━━━━━━━━━━━\u001b[0m\u001b[37m\u001b[0m \u001b[1m38s\u001b[0m 2s/step - accuracy: 0.8784 - loss: 0.8408 - sparse_categorical_crossentropy: 0.8408 - val_accuracy: 0.7678 - val_loss: 8.0637 - val_sparse_categorical_crossentropy: 8.0637 - learning_rate: 0.0183\n",
      "Epoch 18/20\n",
      "\u001b[1m16/16\u001b[0m \u001b[32m━━━━━━━━━━━━━━━━━━━━\u001b[0m\u001b[37m\u001b[0m \u001b[1m41s\u001b[0m 3s/step - accuracy: 0.8824 - loss: 0.7400 - sparse_categorical_crossentropy: 0.7400 - val_accuracy: 0.7698 - val_loss: 7.9884 - val_sparse_categorical_crossentropy: 7.9884 - learning_rate: 0.0165\n",
      "Epoch 19/20\n",
      "\u001b[1m16/16\u001b[0m \u001b[32m━━━━━━━━━━━━━━━━━━━━\u001b[0m\u001b[37m\u001b[0m \u001b[1m45s\u001b[0m 3s/step - accuracy: 0.8888 - loss: 0.6565 - sparse_categorical_crossentropy: 0.6565 - val_accuracy: 0.7701 - val_loss: 7.9277 - val_sparse_categorical_crossentropy: 7.9277 - learning_rate: 0.0150\n",
      "Epoch 20/20\n",
      "\u001b[1m16/16\u001b[0m \u001b[32m━━━━━━━━━━━━━━━━━━━━\u001b[0m\u001b[37m\u001b[0m \u001b[1m50s\u001b[0m 3s/step - accuracy: 0.8957 - loss: 0.5945 - sparse_categorical_crossentropy: 0.5945 - val_accuracy: 0.7706 - val_loss: 7.9109 - val_sparse_categorical_crossentropy: 7.9109 - learning_rate: 0.0135\n"
     ]
    }
   ],
   "source": [
    "early_stopping = keras.callbacks.EarlyStopping(monitor='val_loss', patience=5)\n",
    "model_checkpoint = keras.callbacks.ModelCheckpoint('seq2seq_gru.keras', save_best_only=True) #saves only best validation performance\n",
    "\n",
    "def scheduler(epoch, lr):\n",
    "    return float(lr * tf.math.exp(-0.1))\n",
    "\n",
    "lr_scheduler = keras.callbacks.LearningRateScheduler(scheduler)\n",
    "\n",
    "tensorboard = keras.callbacks.TensorBoard(log_dir='logs') #to monitor training progress in real-time.\n",
    "\n",
    "history = model.fit(\n",
    "    [eng_sequences, fra_input_sequences],\n",
    "    np.expand_dims(fra_output_sequences, -1), #The French output sequences, reshaped to add a dimension for compatibility with the model. This  makes the target data 3D (batch size, sequence length, 1), matching the model’s output format.\n",
    "    epochs=20,\n",
    "    batch_size=256,\n",
    "    validation_split=0.2,\n",
    "    callbacks=[early_stopping, model_checkpoint, lr_scheduler, tensorboard]\n",
    ")"
   ]
  },
  {
   "cell_type": "code",
   "execution_count": 11,
   "metadata": {},
   "outputs": [
    {
     "data": {
      "image/png": "[encoded data removed]",
      "text/plain": [
       "<Figure size 640x480 with 1 Axes>"
      ]
     },
     "metadata": {},
     "output_type": "display_data"
    }
   ],
   "source": [
    "import matplotlib.pyplot as plt\n",
    "\n",
    "plt.plot(history.history['loss'], label='train')\n",
    "plt.plot(history.history['val_loss'], label='validation')\n",
    "plt.legend()\n",
    "plt.show()"
   ]
  }
 ],
 "metadata": {
  "kernelspec": {
   "display_name": "myenv",
   "language": "python",
   "name": "python3"
  },
  "language_info": {
   "codemirror_mode": {
    "name": "ipython",
    "version": 3
   },
   "file_extension": ".py",
   "mimetype": "text/x-python",
   "name": "python",
   "nbconvert_exporter": "python",
   "pygments_lexer": "ipython3",
   "version": "3.9.6"
  }
 },
 "nbformat": 4,
 "nbformat_minor": 2
}
