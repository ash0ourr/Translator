{
 "cells": [
  {
   "cell_type": "code",
   "execution_count": 6,
   "id": "15248cb8",
   "metadata": {},
   "outputs": [],
   "source": [
    "import numpy as np\n",
    "import pandas as pd\n",
    "from sklearn.model_selection import train_test_split\n",
    "from keras.preprocessing.text import Tokenizer\n",
    "from keras.preprocessing.sequence import pad_sequences\n",
    "from keras.models import Model\n",
    "from keras.layers import Input, SimpleRNN, Dense, Embedding\n",
    "from keras.optimizers import Adam\n",
    "import matplotlib.pyplot as plt"
   ]
  },
  {
   "cell_type": "code",
   "execution_count": 7,
   "id": "9443a36f",
   "metadata": {},
   "outputs": [],
   "source": [
    "url = 'data/eng_-french.csv'\n",
    "data = pd.read_csv(url)\n",
    "\n",
    "def preprocess_data(data):\n",
    "    data.rename(columns={\"English words/sentences\": \"Eng\", \"French words/sentences\": \"Frn\"}, inplace=True)\n",
    "    return data\n",
    "data = preprocess_data(data)\n",
    "\n",
    "def tokenize_and_pad(texts, max_len=None):\n",
    "    tokenizer = Tokenizer()\n",
    "    tokenizer.fit_on_texts(texts)\n",
    "    sequences = tokenizer.texts_to_sequences(texts)\n",
    "    padded_sequences = pad_sequences(sequences, padding='post', maxlen=max_len)\n",
    "    return padded_sequences, tokenizer\n",
    "\n",
    "eng_sequences, eng_tokenizer = tokenize_and_pad(data['Eng'])\n",
    "frn_sequences, frn_tokenizer = tokenize_and_pad(data['Frn'])\n",
    "\n",
    "eng_max_len = max(len(seq) for seq in eng_sequences)\n",
    "frn_max_len = max(len(seq) for seq in frn_sequences)\n",
    "\n",
    "eng_sequences, eng_tokenizer = tokenize_and_pad(data['Eng'], max_len=eng_max_len)\n",
    "frn_sequences, frn_tokenizer = tokenize_and_pad(data['Frn'], max_len=frn_max_len)\n",
    "\n",
    "eng_vocab_size = len(eng_tokenizer.word_index) + 1\n",
    "frn_vocab_size = len(frn_tokenizer.word_index) + 1\n",
    "\n",
    "train_eng, test_eng, train_frn, test_frn = train_test_split(eng_sequences, frn_sequences, test_size=0.2, random_state=42)\n"
   ]
  },
  {
   "cell_type": "code",
   "execution_count": 25,
   "id": "352a7998",
   "metadata": {},
   "outputs": [],
   "source": [
    "def define_simplified_seq2seq_model(eng_vocab_size, frn_vocab_size, eng_max_len, frn_max_len, embedding_dim=128, rnn_units=128):\n",
    "    # Encoder\n",
    "    encoder_inputs = Input(shape=(eng_max_len,))\n",
    "    encoder_embedding = Embedding(eng_vocab_size, embedding_dim, input_length=eng_max_len, mask_zero=True)(encoder_inputs)\n",
    "    encoder_rnn, state_h = LSTM(rnn_units, return_state=True)(encoder_embedding)\n",
    "    encoder_states = [state_h]\n",
    "\n",
    "    # Decoder\n",
    "    decoder_inputs = Input(shape=(frn_max_len,))\n",
    "    decoder_embedding = Embedding(frn_vocab_size, embedding_dim, input_length=frn_max_len, mask_zero=True)(decoder_inputs)\n",
    "    decoder_rnn = LSTM(rnn_units, return_sequences=True, return_state=True)\n",
    "    decoder_outputs, state_h = decoder_rnn(decoder_embedding, initial_state=encoder_states)\n",
    "    decoder_dense = Dense(frn_vocab_size, activation='softmax')\n",
    "    decoder_outputs = decoder_dense(decoder_outputs)\n",
    "\n",
    "    # Define the model\n",
    "    model = Model([encoder_inputs, decoder_inputs], decoder_outputs)\n",
    "    \n",
    "    # Create separate models for the encoder and decoder\n",
    "    encoder_model = Model(encoder_inputs, encoder_states)\n",
    "\n",
    "    decoder_state_input_h = Input(shape=(rnn_units,))\n",
    "    decoder_states_inputs = [decoder_state_input_h]\n",
    "\n",
    "    decoder_outputs, state_h = decoder_rnn(\n",
    "        decoder_embedding, initial_state=decoder_states_inputs)\n",
    "    decoder_states = [state_h]\n",
    "    decoder_outputs = decoder_dense(decoder_outputs)\n",
    "\n",
    "    decoder_model = Model(\n",
    "        [decoder_inputs] + decoder_states_inputs,\n",
    "        [decoder_outputs] + decoder_states)\n",
    "\n",
    "    return model, encoder_model, decoder_model\n",
    "\n",
    "\n",
    "\n",
    "# Hyperparameters\n",
    "embedding_dim = 256\n",
    "rnn_units = 256\n",
    "batch_size = 64\n",
    "epochs = 2\n",
    "learning_rate = 1e-3\n",
    "\n",
    "# Compile and build the model\n",
    "model = define_seq2seq_model(eng_vocab_size, frn_vocab_size, eng_max_len, frn_max_len, embedding_dim, rnn_units)\n",
    "model.compile(optimizer=Adam(learning_rate), loss='sparse_categorical_crossentropy')\n",
    "\n"
   ]
  },
  {
   "cell_type": "code",
   "execution_count": 9,
   "id": "0739d4a8",
   "metadata": {},
   "outputs": [
    {
     "name": "stdout",
     "output_type": "stream",
     "text": [
      "Epoch 1/2\n",
      "1757/1757 [==============================] - 2821s 2s/step - loss: 5.0840 - val_loss: 4.2070\n",
      "Epoch 2/2\n",
      "1757/1757 [==============================] - 2776s 2s/step - loss: 3.7585 - val_loss: 3.7240\n"
     ]
    }
   ],
   "source": [
    "# Prepare data for the decoder\n",
    "train_frn_input = train_frn[:, :-1]  # input to the decoder\n",
    "train_frn_output = train_frn[:, 1:]  # expected output of the decoder (shifted by one timestep)\n",
    "\n",
    "# Padding train_frn_input to ensure it matches the required input shape\n",
    "train_frn_input = pad_sequences(train_frn_input, maxlen=frn_max_len, padding='post')\n",
    "train_frn_output = pad_sequences(train_frn_output, maxlen=frn_max_len, padding='post')\n",
    "\n",
    "# Train the model\n",
    "history = model.fit([train_eng, train_frn_input], train_frn_output,\n",
    "                    batch_size=batch_size,\n",
    "                    epochs=epochs,\n",
    "                    validation_split=0.2)"
   ]
  },
  {
   "cell_type": "code",
   "execution_count": 10,
   "id": "0a8757b1",
   "metadata": {},
   "outputs": [
    {
     "data": {
      "image/png": "[encoded data removed]",
      "text/plain": [
       "<Figure size 432x288 with 1 Axes>"
      ]
     },
     "metadata": {
      "needs_background": "light"
     },
     "output_type": "display_data"
    }
   ],
   "source": [
    "# Plotting the loss\n",
    "plt.plot(history.history['loss'], label='train')\n",
    "plt.plot(history.history['val_loss'], label='validation')\n",
    "plt.legend()\n",
    "plt.xlabel('Epochs')\n",
    "plt.ylabel('Loss')\n",
    "plt.title('Training vs Validation Loss')\n",
    "plt.show()"
   ]
  },
  {
   "cell_type": "code",
   "execution_count": 27,
   "id": "ac0b8b43",
   "metadata": {},
   "outputs": [
    {
     "ename": "NameError",
     "evalue": "name 'encoder_model' is not defined",
     "output_type": "error",
     "traceback": [
      "\u001b[1;31m---------------------------------------------------------------------------\u001b[0m",
      "\u001b[1;31mNameError\u001b[0m                                 Traceback (most recent call last)",
      "Input \u001b[1;32mIn [27]\u001b[0m, in \u001b[0;36m<cell line: 76>\u001b[1;34m()\u001b[0m\n\u001b[0;32m     76\u001b[0m \u001b[38;5;28;01mfor\u001b[39;00m i \u001b[38;5;129;01min\u001b[39;00m \u001b[38;5;28mrange\u001b[39m(\u001b[38;5;241m5\u001b[39m):\n\u001b[0;32m     77\u001b[0m     input_seq \u001b[38;5;241m=\u001b[39m test_eng[i:i\u001b[38;5;241m+\u001b[39m\u001b[38;5;241m1\u001b[39m]\n\u001b[1;32m---> 78\u001b[0m     translated_sentence \u001b[38;5;241m=\u001b[39m \u001b[43mdecode_sequence\u001b[49m\u001b[43m(\u001b[49m\u001b[43minput_seq\u001b[49m\u001b[43m)\u001b[49m\n\u001b[0;32m     79\u001b[0m     \u001b[38;5;28mprint\u001b[39m(\u001b[38;5;124m'\u001b[39m\u001b[38;5;124mInput:\u001b[39m\u001b[38;5;124m'\u001b[39m, data[\u001b[38;5;124m'\u001b[39m\u001b[38;5;124mEng\u001b[39m\u001b[38;5;124m'\u001b[39m]\u001b[38;5;241m.\u001b[39miloc[i])\n\u001b[0;32m     80\u001b[0m     \u001b[38;5;28mprint\u001b[39m(\u001b[38;5;124m'\u001b[39m\u001b[38;5;124mTranslation:\u001b[39m\u001b[38;5;124m'\u001b[39m, translated_sentence)\n",
      "Input \u001b[1;32mIn [27]\u001b[0m, in \u001b[0;36mdecode_sequence\u001b[1;34m(input_seq)\u001b[0m\n\u001b[0;32m     38\u001b[0m \u001b[38;5;28;01mdef\u001b[39;00m \u001b[38;5;21mdecode_sequence\u001b[39m(input_seq):\n\u001b[0;32m     39\u001b[0m     \u001b[38;5;66;03m# Encode the input as state vectors.\u001b[39;00m\n\u001b[1;32m---> 40\u001b[0m     states_value \u001b[38;5;241m=\u001b[39m \u001b[43mencoder_model\u001b[49m\u001b[38;5;241m.\u001b[39mpredict(input_seq)\n\u001b[0;32m     42\u001b[0m     \u001b[38;5;66;03m# Generate empty target sequence of length 1 with only the start character.\u001b[39;00m\n\u001b[0;32m     43\u001b[0m     target_seq \u001b[38;5;241m=\u001b[39m np\u001b[38;5;241m.\u001b[39mzeros((\u001b[38;5;241m1\u001b[39m, \u001b[38;5;241m1\u001b[39m))\n",
      "\u001b[1;31mNameError\u001b[0m: name 'encoder_model' is not defined"
     ]
    }
   ],
   "source": [
    "# Function to translate using the trained model\n",
    "def decode_sequence(input_seq):\n",
    "    # Encode the input as state vectors.\n",
    "    states_value = encoder_model.predict(input_seq)\n",
    "\n",
    "    # Generate empty target sequence of length 1 with only the start character.\n",
    "    target_seq = np.zeros((1, 1))\n",
    "    \n",
    "    # Start character is assumed to be index 1 (usually 0 is reserved for padding)\n",
    "    target_seq[0, 0] = 1\n",
    "\n",
    "    # Sampling loop\n",
    "    stop_condition = False\n",
    "    decoded_sentence = ''\n",
    "    while not stop_condition:\n",
    "        output_tokens, h = decoder_model.predict(\n",
    "            [target_seq] + states_value)\n",
    "\n",
    "        # Sample a token\n",
    "        sampled_token_index = np.argmax(output_tokens[0, -1, :])\n",
    "        sampled_word = frn_tokenizer.index_word.get(sampled_token_index, '')\n",
    "\n",
    "        decoded_sentence += ' ' + sampled_word\n",
    "\n",
    "        # Exit condition: either hit max length or find stop character.\n",
    "        if (sampled_word == '' or\n",
    "           len(decoded_sentence.split()) >= frn_max_len):\n",
    "            stop_condition = True\n",
    "\n",
    "        # Update the target sequence (of length 1).\n",
    "        target_seq = np.zeros((1, 1))\n",
    "        target_seq[0, 0] = sampled_token_index\n",
    "\n",
    "        # Update states\n",
    "        states_value = [h]\n",
    "\n",
    "    return decoded_sentence.strip()\n",
    "\n",
    "# Translate some test sentences\n",
    "for i in range(5):\n",
    "    input_seq = test_eng[i:i+1]\n",
    "    translated_sentence = decode_sequence(input_seq)\n",
    "    print('Input:', data['Eng'].iloc[i])\n",
    "    print('Translation:', translated_sentence)\n",
    "    print()"
   ]
  },
  {
   "cell_type": "code",
   "execution_count": null,
   "id": "7903c94f",
   "metadata": {},
   "outputs": [],
   "source": []
  }
 ],
 "metadata": {
  "kernelspec": {
   "display_name": "Python 3 (ipykernel)",
   "language": "python",
   "name": "python3"
  },
  "language_info": {
   "codemirror_mode": {
    "name": "ipython",
    "version": 3
   },
   "file_extension": ".py",
   "mimetype": "text/x-python",
   "name": "python",
   "nbconvert_exporter": "python",
   "pygments_lexer": "ipython3",
   "version": "3.9.12"
  }
 },
 "nbformat": 4,
 "nbformat_minor": 5
}
